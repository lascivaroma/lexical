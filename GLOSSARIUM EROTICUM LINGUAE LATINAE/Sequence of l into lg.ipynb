{
 "cells": [
  {
   "cell_type": "code",
   "execution_count": 5,
   "metadata": {},
   "outputs": [],
   "source": [
    "import lxml.etree as ET\n",
    "\n",
    "with open(\"step1.xml\", \"rb\") as f:\n",
    "    data = f.read()\n",
    "    \n",
    "xml = ET.fromstring(data)\n",
    "xmlns = \"http://www.tei-c.org/ns/1.0\"\n",
    "ns = \"{\"+xmlns+\"}\"\n",
    "\n",
    "for sense in xml.xpath(\"//t:sense\", namespaces={\"t\":xmlns}):\n",
    "    group = []\n",
    "    cit = []\n",
    "    lg = []\n",
    "    before = None\n",
    "    \n",
    "    for desc in sense.xpath(\"./node()\"):\n",
    "        if not isinstance(desc, ET._ElementUnicodeResult):\n",
    "            if desc.tag == ns+\"l\":\n",
    "                if before is None:\n",
    "                    parent = desc.getparent()\n",
    "                    before = parent.index(desc)\n",
    "                lg.append(desc)\n",
    "            elif desc.tag == ns+\"bibl\":\n",
    "                # Create both nodes\n",
    "                cit = ET.Element(ns+\"cit\")\n",
    "                quote = ET.Element(ns+\"quote\")\n",
    "                lg_node = ET.Element(ns+\"lg\")\n",
    "                \n",
    "                # Add <lg> to <cit>\n",
    "                cit.append(quote)\n",
    "                quote.append(lg_node)\n",
    "                # Add each line\n",
    "                for l in lg:\n",
    "                    lg_node.append(l)\n",
    "                # Add the bibliography\n",
    "                cit.append(desc)\n",
    "                \n",
    "                # Insert in the tree\n",
    "                parent.insert(before, cit)\n",
    "                \n",
    "                cit.tail = desc.tail\n",
    "                desc.tail = \"\"\n",
    "                \n",
    "                # Reset\n",
    "                lg = []\n",
    "                before = None\n",
    "\n",
    "\n",
    "string = ET.tostring(xml, method='xml', pretty_print=True, encoding=str)\n",
    "string =string.replace(\"(\", \"<cit><bibl>\").replace(\")\", \"</bibl></cit>\")\n",
    "\n",
    "with open(\"step2.xml\", \"w\") as f:\n",
    "    f.write(string)\n",
    "                "
   ]
  },
  {
   "cell_type": "code",
   "execution_count": null,
   "metadata": {},
   "outputs": [],
   "source": []
  }
 ],
 "metadata": {
  "kernelspec": {
   "display_name": "Python 3",
   "language": "python",
   "name": "python3"
  },
  "language_info": {
   "codemirror_mode": {
    "name": "ipython",
    "version": 3
   },
   "file_extension": ".py",
   "mimetype": "text/x-python",
   "name": "python",
   "nbconvert_exporter": "python",
   "pygments_lexer": "ipython3",
   "version": "3.6.7"
  }
 },
 "nbformat": 4,
 "nbformat_minor": 2
}
